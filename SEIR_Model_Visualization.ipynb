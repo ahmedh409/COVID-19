{
 "cells": [
  {
   "cell_type": "code",
   "execution_count": 8,
   "metadata": {},
   "outputs": [],
   "source": [
    "import pandas as pd\n",
    "import numpy as np\n",
    "from scipy.integrate import odeint\n",
    "import matplotlib.pyplot as plt"
   ]
  },
  {
   "cell_type": "code",
   "execution_count": 14,
   "metadata": {},
   "outputs": [
    {
     "name": "stdout",
     "output_type": "stream",
     "text": [
      "R0 is 7.3500000000000005\n"
     ]
    }
   ],
   "source": [
    "# SEIR MODEL - DIFFERENTIAL EQUATIONS\n",
    "# The SEIR model adds an “Exposed” state for individuals that have contracted the disease but are not yet\n",
    "# infectious. This uses the fact that there is an incubation stage of infection that lasts approx. 6 days.\n",
    "# The model assumes people carry lifelong immunity to a disease upon recovery, which hasn't been disproven\n",
    "# for COVID-19.\n",
    "\n",
    "def comp(state, t, N, beta, gamma, sigma):\n",
    "    S, E, I, R = state\n",
    "    dSdt = -(beta * S * I)/N # Change in susceptible population over time\n",
    "    dEdt = (beta * S * I)/N - sigma * E # Change in exposed population over time\n",
    "    dIdt = sigma * E - gamma * I # Change in infectious population over time\n",
    "    dRdt = gamma * I # Change in recovered population over time\n",
    "    return dSdt, dEdt, dIdt, dRdt\n",
    "\n",
    "# BETA => effective_contact_rate\n",
    "# GAMMA => recovery_rate\n",
    "# SIGMA => incubation_period\n",
    "\n",
    "transmission_rate = 0.105\n",
    "contact_rate = 5\n",
    "days_to_recover = 14\n",
    "effective_contact_rate = transmission_rate * contact_rate\n",
    "recovery_rate = 1/days_to_recover\n",
    "mortality_rate = 0.002 # for 20-29 year olds\n",
    "incubation_period = 5.5 # incubation parameter\n",
    "\n",
    "print(\"R0 is\", effective_contact_rate / recovery_rate)"
   ]
  },
  {
   "cell_type": "markdown",
   "metadata": {},
   "source": [
    "Generally, a lower R0 is best. For example, an R0 of 1.0 simply means one person passes it to another, who passes it to another, etc. This simulation has an abnormally high R0, but the CDC reported an R0 of 5.7 in Wuhan, China (https://wwwnc.cdc.gov/eid/article/26/7/20-0282_article). It should be noted that the amount of time for recovery from COVID-19 is approximately 2 weeks, or 14 days. However, this number increases substantially to 3-6 weeks if the patient has any severe pre-existing conditions.\n",
    "    \n",
    "The CDC also mentions (linked below) there are approximately ~6 days between exposure and symptom onset. https://www.cdc.gov/coronavirus/2019-ncov/hcp/planning-scenarios.html"
   ]
  },
  {
   "cell_type": "code",
   "execution_count": 13,
   "metadata": {},
   "outputs": [
    {
     "data": {
      "text/plain": [
       "<matplotlib.axes._subplots.AxesSubplot at 0x7ffcc1f88610>"
      ]
     },
     "execution_count": 13,
     "metadata": {},
     "output_type": "execute_result"
    },
    {
     "data": {
      "image/png": "[encoded data removed]",
      "text/plain": [
       "<Figure size 432x288 with 1 Axes>"
      ]
     },
     "metadata": {},
     "output_type": "display_data"
    }
   ],
   "source": [
    "# Starting UVA student population (rough numbers)\n",
    "total_pop = 22000\n",
    "recovered = 50 # complete guess, not sure of number\n",
    "infected = 5 # complete guess\n",
    "exposed = 50 # complete guess (those who arrive exposed in the last ~6 days)\n",
    "susceptible = total_pop - infected - recovered - exposed \n",
    "\n",
    "days = range(0, 91)\n",
    "\n",
    "# Computation\n",
    "calc = odeint(comp, [susceptible, exposed, infected, recovered], days,\n",
    "             args=(total_pop, incubation_period, effective_contact_rate, recovery_rate))\n",
    "S, E, I, R = calc.T\n",
    "\n",
    "# DataFrame\n",
    "df = pd.DataFrame({'Susceptible': S, 'Exposed': E, 'Infected': I, 'Recovered': R, 'Day': days})\n",
    "plt.style.use('ggplot')\n",
    "df.plot(x='Day',\n",
    "        y=['Infected', 'Exposed', 'Susceptible', 'Recovered'],\n",
    "        color=['#303bd1', '#3783ed', '#3bbaff', '#66deff'],\n",
    "        kind='area',\n",
    "        stacked=True)"
   ]
  },
  {
   "cell_type": "code",
   "execution_count": null,
   "metadata": {},
   "outputs": [],
   "source": []
  }
 ],
 "metadata": {
  "kernelspec": {
   "display_name": "Python 3",
   "language": "python",
   "name": "python3"
  },
  "language_info": {
   "codemirror_mode": {
    "name": "ipython",
    "version": 3
   },
   "file_extension": ".py",
   "mimetype": "text/x-python",
   "name": "python",
   "nbconvert_exporter": "python",
   "pygments_lexer": "ipython3",
   "version": "3.7.6"
  }
 },
 "nbformat": 4,
 "nbformat_minor": 4
}
